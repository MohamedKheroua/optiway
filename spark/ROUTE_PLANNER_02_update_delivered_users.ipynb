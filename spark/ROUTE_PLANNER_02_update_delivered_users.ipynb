{
 "cells": [
  {
   "cell_type": "code",
   "execution_count": null,
   "metadata": {},
   "outputs": [],
   "source": [
    "from pyspark.sql import SparkSession\n",
    "\n",
    "# you need these two to transform the json strings to dataframes\n",
    "from pyspark.sql.types import MapType,StringType\n",
    "from pyspark.sql.functions import from_json\n",
    "\n",
    "import os"
   ]
  },
  {
   "cell_type": "code",
   "execution_count": null,
   "metadata": {},
   "outputs": [],
   "source": [
    "from modules.postgresql.postgres_connection import connect, close_connection\n",
    "from modules.postgresql.tables import *"
   ]
  },
  {
   "cell_type": "code",
   "execution_count": null,
   "metadata": {},
   "outputs": [],
   "source": [
    "# Spark session & context\n",
    "spark = (SparkSession\n",
    "         .builder\n",
    "         .master('local[8]')\n",
    "         .appName('Kafka PySpark - Update PostgreSQL table users')\n",
    "         # Versions need to match the Spark version (trial & error)\n",
    "         .config(\"spark.jars.packages\", \"org.apache.spark:spark-sql-kafka-0-10_2.11:2.4.5\")\n",
    "         # PostgreSQL package\n",
    "         # ERROR SparkContext: Failed to add /opt/spark/jars/postgresql-42.2.5.jar to Spark environment\n",
    "         #.config(\"spark.jars\", \"/opt/spark/jars/postgresql-42.2.5.jar\")\n",
    "         .config(\"spark.jars\", \"/usr/local/spark-2.4.5-bin-hadoop2.7/jars/postgresql-42.2.5.jar\")\n",
    "         .getOrCreate())\n",
    "sc = spark.sparkContext"
   ]
  },
  {
   "cell_type": "code",
   "execution_count": null,
   "metadata": {},
   "outputs": [],
   "source": [
    "#get the name of the table to load\n",
    "#load the user to update table in PostgreSQL\n",
    "df_table_name = spark.read \\\n",
    "    .format(\"jdbc\") \\\n",
    "    .option(\"url\", \"jdbc:postgresql://host.docker.internal:5432/\"+os.environ[\"PGDATABASE\"]) \\\n",
    "    .option(\"dbtable\", \"tables_to_update\") \\\n",
    "    .option(\"user\", \"postgres\") \\\n",
    "    .option(\"password\", os.environ[\"PGPASSWORD\"]) \\\n",
    "    .option(\"driver\", \"org.postgresql.Driver\") \\\n",
    "    .load()"
   ]
  },
  {
   "cell_type": "code",
   "execution_count": null,
   "metadata": {},
   "outputs": [],
   "source": [
    "# process all the table of delivered users\n",
    "\n",
    "conn = connect()\n",
    "\n",
    "email_list = []\n",
    "for table_name in df_table_name.collect():\n",
    "    temp_email_listDF = spark.read \\\n",
    "        .format(\"jdbc\") \\\n",
    "        .option(\"url\", \"jdbc:postgresql://host.docker.internal:5432/\"+os.environ[\"PGDATABASE\"]) \\\n",
    "        .option(\"dbtable\", table_name['name']) \\\n",
    "        .option(\"user\", \"postgres\") \\\n",
    "        .option(\"password\", os.environ[\"PGPASSWORD\"]) \\\n",
    "        .option(\"driver\", \"org.postgresql.Driver\") \\\n",
    "        .load()\n",
    "    \n",
    "    email_list = [row['email'] for row in temp_email_listDF.collect()]\n",
    "    \n",
    "    # Spark SQL doesn't have an equivalent of the PostgreSQL UPDATE ou DELETE where\n",
    "    # update users table directly with custom function update_table from postgresql module\n",
    "    # set a_livrer field to 'non' (users have been delivered)\n",
    "    update_table(\n",
    "        conn=conn,\n",
    "        col_val=\"\"\"a_livrer = 'non'\"\"\",\n",
    "        table=\"users\",\n",
    "        query=\"\"\"WHERE (email in ({}))\"\"\".format(str(email_list)[1:-1])\n",
    "    )\n",
    "    \n",
    "    # delete the row corresponding to table_name['name'] from tables_to_update (as its users have been processed)\n",
    "    delete_from_table(\n",
    "        conn=conn,\n",
    "        table='tables_to_update',\n",
    "        query= \"where name = '{}'\".format(table_name['name'])\n",
    "    )\n",
    "    \n",
    "    # drop the table table_name['name']\n",
    "    drop_table(\n",
    "        conn=conn,\n",
    "        table='{}'.format(table_name['name'])\n",
    "    )\n",
    "\n",
    "close_connection(conn=conn)"
   ]
  }
 ],
 "metadata": {
  "kernelspec": {
   "display_name": "Python 3",
   "language": "python",
   "name": "python3"
  },
  "language_info": {
   "codemirror_mode": {
    "name": "ipython",
    "version": 3
   },
   "file_extension": ".py",
   "mimetype": "text/x-python",
   "name": "python",
   "nbconvert_exporter": "python",
   "pygments_lexer": "ipython3",
   "version": "3.7.6"
  },
  "vscode": {
   "interpreter": {
    "hash": "916dbcbb3f70747c44a77c7bcd40155683ae19c65e1c03b4aa3499c5328201f1"
   }
  }
 },
 "nbformat": 4,
 "nbformat_minor": 4
}
