{
 "cells": [
  {
   "cell_type": "code",
   "execution_count": null,
   "metadata": {},
   "outputs": [],
   "source": [
    "from pyspark.sql import SparkSession\n",
    "\n",
    "# you need these two to transform the json strings to dataframes\n",
    "from pyspark.sql.types import MapType,StringType\n",
    "from pyspark.sql.functions import from_json\n",
    "\n",
    "import os\n",
    "import time"
   ]
  },
  {
   "cell_type": "code",
   "execution_count": null,
   "metadata": {},
   "outputs": [],
   "source": [
    "# Spark session & context\n",
    "spark = (SparkSession\n",
    "         .builder\n",
    "         .master('local[8]')\n",
    "         .appName('Kafka PySpark - Overwrite PostgreSQL table users_to_update')\n",
    "         # Versions need to match the Spark version (trial & error)\n",
    "         .config(\"spark.jars.packages\", \"org.apache.spark:spark-sql-kafka-0-10_2.11:2.4.5\")\n",
    "         # PostgreSQL package\n",
    "         # ERROR SparkContext: Failed to add /opt/spark/jars/postgresql-42.2.5.jar to Spark environment\n",
    "         #.config(\"spark.jars\", \"/opt/spark/jars/postgresql-42.2.5.jar\")\n",
    "         .config(\"spark.jars\", \"/usr/local/spark-2.4.5-bin-hadoop2.7/jars/postgresql-42.2.5.jar\")\n",
    "         .getOrCreate())\n",
    "sc = spark.sparkContext"
   ]
  },
  {
   "cell_type": "code",
   "execution_count": null,
   "metadata": {},
   "outputs": [],
   "source": [
    "# Read the message from the kafka stream\n",
    "df_kafka_input_raw_data = spark \\\n",
    "  .readStream \\\n",
    "  .format(\"kafka\") \\\n",
    "  .option(\"kafka.bootstrap.servers\", \"kafka:9092\") \\\n",
    "  .option(\"subscribe\", \"get-delivery-adresses-topic\") \\\n",
    "  .option(\"failOnDataLoss\", \"false\") \\\n",
    "  .load()\n",
    "\n",
    "# convert the binary values to string\n",
    "df_kafka_input_coverted_to_str = df_kafka_input_raw_data.selectExpr(\"CAST(key AS STRING)\", \"CAST(value AS STRING)\")"
   ]
  },
  {
   "cell_type": "code",
   "execution_count": null,
   "metadata": {},
   "outputs": [],
   "source": [
    "#Create a small temporary view for SparkSQL\n",
    "df_kafka_input_coverted_to_str.createOrReplaceTempView(\"message\")"
   ]
  },
  {
   "cell_type": "code",
   "execution_count": null,
   "metadata": {},
   "outputs": [],
   "source": [
    "# Write out the message to the console of the environment\n",
    "res = spark.sql(\"SELECT * from message\")\n",
    "res.writeStream.format(\"console\") \\\n",
    "            .outputMode(\"append\") \\\n",
    "            .start() "
   ]
  },
  {
   "cell_type": "code",
   "execution_count": null,
   "metadata": {},
   "outputs": [],
   "source": [
    "from pyspark.sql import Row\n",
    "\n",
    "# Keep records of the temp table name, in order to access it in another script, to update the delivered users \n",
    "temp_table_name = \"temp_delivered_users_\"+time.strftime(\"%Y%m%d_%H%M%S\")\n",
    "\n",
    "tables_to_updateDF = spark.createDataFrame([Row(name=temp_table_name)])\n",
    "\n",
    "tables_to_updateDF.write \\\n",
    "        .format(\"jdbc\") \\\n",
    "        .option(\"url\", \"jdbc:postgresql://host.docker.internal:5432/\"+os.environ[\"PGDATABASE\"]) \\\n",
    "        .option(\"dbtable\", \"tables_to_update\") \\\n",
    "        .option(\"user\", \"postgres\") \\\n",
    "        .option(\"password\", os.environ[\"PGPASSWORD\"]) \\\n",
    "        .option(\"driver\", \"org.postgresql.Driver\") \\\n",
    "        .mode(\"append\") \\\n",
    "        .save()"
   ]
  },
  {
   "cell_type": "code",
   "execution_count": null,
   "metadata": {},
   "outputs": [],
   "source": [
    "# Write the message into a temporary table in PostgreSQL\n",
    "def foreach_batch_function(df,epoch_id,temp_table_name=temp_table_name):\n",
    "    # Transform and write batchDF in this foreach\n",
    "    \n",
    "    #Transform the values of all rows in column value and create a dataframe out of it (will also only have one row)\n",
    "    df2=df.withColumn(\"value\",from_json(df.value,MapType(StringType(),StringType())))    \n",
    "   \n",
    "    # Transform the dataframe so that it will have individual columns \n",
    "    df3= df2.select([\"value.email\"])\n",
    "    \n",
    "    # Send the dataframe into PostgreSQL which will save the data into the table users_pyspark_test\n",
    "    df3.write \\\n",
    "        .format(\"jdbc\") \\\n",
    "        .option(\"url\", \"jdbc:postgresql://host.docker.internal:5432/\"+os.environ[\"PGDATABASE\"]) \\\n",
    "        .option(\"dbtable\", temp_table_name) \\\n",
    "        .option(\"user\", \"postgres\") \\\n",
    "        .option(\"password\", os.environ[\"PGPASSWORD\"]) \\\n",
    "        .option(\"driver\", \"org.postgresql.Driver\") \\\n",
    "        .mode(\"append\") \\\n",
    "        .save()\n",
    "    \n",
    "    pass"
   ]
  },
  {
   "cell_type": "code",
   "execution_count": null,
   "metadata": {},
   "outputs": [],
   "source": [
    "# Start the PostgreSQL stream and wait for termination\n",
    "df_kafka_input_coverted_to_str.writeStream.foreachBatch(foreach_batch_function).start().awaitTermination()"
   ]
  }
 ],
 "metadata": {
  "kernelspec": {
   "display_name": "Python 3",
   "language": "python",
   "name": "python3"
  },
  "language_info": {
   "codemirror_mode": {
    "name": "ipython",
    "version": 3
   },
   "file_extension": ".py",
   "mimetype": "text/x-python",
   "name": "python",
   "nbconvert_exporter": "python",
   "pygments_lexer": "ipython3",
   "version": "3.7.6"
  },
  "vscode": {
   "interpreter": {
    "hash": "916dbcbb3f70747c44a77c7bcd40155683ae19c65e1c03b4aa3499c5328201f1"
   }
  }
 },
 "nbformat": 4,
 "nbformat_minor": 4
}
